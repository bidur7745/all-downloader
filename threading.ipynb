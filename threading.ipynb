

from google.colab import drive
drive.mount("/content/drive")
     

!pip install requests
!pip install tqdm
from tqdm import tqdm
import os
import sys
from pathlib import Path
import requests
import threading

def download(url):
  try:
    filesize = int(requests.head(url).headers["Content-Length"])
    filename = os.path.basename(url)
    print(filesize,filename)
    home_path = Path.home()
    home_path = ""
    sub_path = ""
    os.makedirs(os.path.join(home_path, sub_path), exist_ok=True)
    dl_path = os.path.join(home_path, sub_path, filename)
    chunk_size = 1024
    with requests.get(url, stream=True) as r, open(dl_path, "wb") as f, tqdm(
            unit="B", 
            unit_scale=True,
            unit_divisor=1024,
            total=filesize, 
            file=sys.stdout, 
            desc=filename
    ) as progress:
        for chunk in r.iter_content(chunk_size=chunk_size):
            datasize = f.write(chunk)
            progress.update(datasize)
  except:
    pass
     

urls = []
while True:
  url = input("Enter file URL : ")
  if url.lower()!="exit":
    urls.append(url)
  else:
    break
     

threads = []
for i in range(len(urls)):
    t=threading.Thread(target=download,args=[urls[i]])
    threads.append(t)
    t.start()
for i in threads:
    i.join()
     

     if any errors occur vist this site 
     https://github.com/rishabhxchoudhary/Google-Colab-File-Downloader

     request and threding will downloads only files that have direct donloads links 